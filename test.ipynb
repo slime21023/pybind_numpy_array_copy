{
 "cells": [
  {
   "cell_type": "code",
   "execution_count": 6,
   "metadata": {},
   "outputs": [
    {
     "name": "stdout",
     "output_type": "stream",
     "text": [
      "Original array:\n",
      "[[1. 2.]\n",
      " [3. 4.]]\n",
      "Copied array:\n",
      "[[1. 2.]\n",
      " [3. 4.]]\n"
     ]
    }
   ],
   "source": [
    "import numpy as np\n",
    "import src.array_copy as array_copy\n",
    "\n",
    "# Create a NumPy array\n",
    "arr = np.array([[1.0, 2.0], [3.0, 4.0]])\n",
    "\n",
    "# Copy the array using the PyBind11 function\n",
    "new_arr = array_copy.copy_array(arr)\n",
    "\n",
    "# Print the original and copied arrays\n",
    "print(\"Original array:\")\n",
    "print(arr)\n",
    "\n",
    "print(\"Copied array:\")\n",
    "print(new_arr)\n"
   ]
  }
 ],
 "metadata": {
  "kernelspec": {
   "display_name": "base",
   "language": "python",
   "name": "python3"
  },
  "language_info": {
   "codemirror_mode": {
    "name": "ipython",
    "version": 3
   },
   "file_extension": ".py",
   "mimetype": "text/x-python",
   "name": "python",
   "nbconvert_exporter": "python",
   "pygments_lexer": "ipython3",
   "version": "3.8.8"
  },
  "orig_nbformat": 4
 },
 "nbformat": 4,
 "nbformat_minor": 2
}
